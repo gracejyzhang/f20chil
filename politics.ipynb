{
 "cells": [
  {
   "cell_type": "code",
   "execution_count": 52,
   "metadata": {},
   "outputs": [],
   "source": [
    "import pandas as pd\n",
    "import plotly.express as px\n",
    "import chart_studio as cs\n",
    "import json\n",
    "from sklearn.preprocessing import MinMaxScaler\n",
    "\n",
    "pd.set_option(\"display.max_rows\", None, \"display.max_columns\", None)"
   ]
  },
  {
   "cell_type": "markdown",
   "metadata": {},
   "source": [
    "## Reddit Data: Triadic Census\n"
   ]
  },
  {
   "cell_type": "code",
   "execution_count": 1,
   "metadata": {
    "scrolled": false
   },
   "outputs": [
    {
     "ename": "NameError",
     "evalue": "name 'pd' is not defined",
     "output_type": "error",
     "traceback": [
      "\u001b[1;31m---------------------------------------------------------------------------\u001b[0m",
      "\u001b[1;31mNameError\u001b[0m                                 Traceback (most recent call last)",
      "\u001b[1;32m<ipython-input-1-3b6af8301db6>\u001b[0m in \u001b[0;36m<module>\u001b[1;34m\u001b[0m\n\u001b[1;32m----> 1\u001b[1;33m \u001b[0mdims\u001b[0m \u001b[1;33m=\u001b[0m \u001b[0mpd\u001b[0m\u001b[1;33m.\u001b[0m\u001b[0mread_csv\u001b[0m\u001b[1;33m(\u001b[0m\u001b[1;34m'dimensions.csv'\u001b[0m\u001b[1;33m,\u001b[0m\u001b[0mindex_col\u001b[0m\u001b[1;33m=\u001b[0m\u001b[1;36m0\u001b[0m\u001b[1;33m)\u001b[0m\u001b[1;33m.\u001b[0m\u001b[0mapply\u001b[0m\u001b[1;33m(\u001b[0m\u001b[0mpd\u001b[0m\u001b[1;33m.\u001b[0m\u001b[0meval\u001b[0m\u001b[1;33m)\u001b[0m\u001b[1;33m\u001b[0m\u001b[1;33m\u001b[0m\u001b[0m\n\u001b[0m\u001b[0;32m      2\u001b[0m \u001b[0mdf\u001b[0m \u001b[1;33m=\u001b[0m \u001b[0mpd\u001b[0m\u001b[1;33m.\u001b[0m\u001b[0mread_csv\u001b[0m\u001b[1;33m(\u001b[0m\u001b[1;34m'results/reddit_politics_sd/reddit.csv'\u001b[0m\u001b[1;33m,\u001b[0m\u001b[0mindex_col\u001b[0m\u001b[1;33m=\u001b[0m\u001b[1;36m0\u001b[0m\u001b[1;33m)\u001b[0m\u001b[1;33m\u001b[0m\u001b[1;33m\u001b[0m\u001b[0m\n\u001b[0;32m      3\u001b[0m \u001b[0mdf\u001b[0m\u001b[1;33m[\u001b[0m\u001b[1;33m:\u001b[0m\u001b[1;36m11\u001b[0m\u001b[1;33m]\u001b[0m\u001b[1;33m\u001b[0m\u001b[1;33m\u001b[0m\u001b[0m\n",
      "\u001b[1;31mNameError\u001b[0m: name 'pd' is not defined"
     ]
    }
   ],
   "source": [
    "dims = pd.read_csv('dimensions.csv',index_col=0).apply(pd.eval)\n",
    "df = pd.read_csv('results/reddit_politics_sd/reddit.csv',index_col=0)\n",
    "df[:11]"
   ]
  },
  {
   "cell_type": "markdown",
   "metadata": {},
   "source": [
    "## Reddit Data: 3 Dimensions"
   ]
  },
  {
   "cell_type": "code",
   "execution_count": 54,
   "metadata": {
    "scrolled": false
   },
   "outputs": [
    {
     "data": {
      "text/html": [
       "<div>\n",
       "<style scoped>\n",
       "    .dataframe tbody tr th:only-of-type {\n",
       "        vertical-align: middle;\n",
       "    }\n",
       "\n",
       "    .dataframe tbody tr th {\n",
       "        vertical-align: top;\n",
       "    }\n",
       "\n",
       "    .dataframe thead th {\n",
       "        text-align: right;\n",
       "    }\n",
       "</style>\n",
       "<table border=\"1\" class=\"dataframe\">\n",
       "  <thead>\n",
       "    <tr style=\"text-align: right;\">\n",
       "      <th></th>\n",
       "      <th>transitivity</th>\n",
       "      <th>equality</th>\n",
       "      <th>rationality</th>\n",
       "    </tr>\n",
       "  </thead>\n",
       "  <tbody>\n",
       "    <tr>\n",
       "      <th>Conservative 0</th>\n",
       "      <td>0.80865</td>\n",
       "      <td>1.496</td>\n",
       "      <td>1.10155</td>\n",
       "    </tr>\n",
       "    <tr>\n",
       "      <th>Conservative 1</th>\n",
       "      <td>0.746316</td>\n",
       "      <td>1.51454</td>\n",
       "      <td>1.10595</td>\n",
       "    </tr>\n",
       "    <tr>\n",
       "      <th>Conservative 2</th>\n",
       "      <td>0.879964</td>\n",
       "      <td>1.48158</td>\n",
       "      <td>1.05047</td>\n",
       "    </tr>\n",
       "    <tr>\n",
       "      <th>Conservative 3</th>\n",
       "      <td>0.619976</td>\n",
       "      <td>1.4864</td>\n",
       "      <td>1.17615</td>\n",
       "    </tr>\n",
       "    <tr>\n",
       "      <th>Conservative 4</th>\n",
       "      <td>0.701938</td>\n",
       "      <td>1.55116</td>\n",
       "      <td>1.10308</td>\n",
       "    </tr>\n",
       "    <tr>\n",
       "      <th>Conservative 5</th>\n",
       "      <td>0.810766</td>\n",
       "      <td>1.43443</td>\n",
       "      <td>1.09458</td>\n",
       "    </tr>\n",
       "    <tr>\n",
       "      <th>Conservative 6</th>\n",
       "      <td>0.91291</td>\n",
       "      <td>1.43642</td>\n",
       "      <td>1.04368</td>\n",
       "    </tr>\n",
       "    <tr>\n",
       "      <th>Conservative 7</th>\n",
       "      <td>0.887692</td>\n",
       "      <td>1.46835</td>\n",
       "      <td>1.04848</td>\n",
       "    </tr>\n",
       "    <tr>\n",
       "      <th>Conservative 8</th>\n",
       "      <td>0.783697</td>\n",
       "      <td>1.49317</td>\n",
       "      <td>1.06068</td>\n",
       "    </tr>\n",
       "    <tr>\n",
       "      <th>Conservative 9</th>\n",
       "      <td>0.829981</td>\n",
       "      <td>1.44578</td>\n",
       "      <td>1.07221</td>\n",
       "    </tr>\n",
       "    <tr>\n",
       "      <th>Conservative 10</th>\n",
       "      <td>0.806062</td>\n",
       "      <td>1.49756</td>\n",
       "      <td>1.10044</td>\n",
       "    </tr>\n",
       "  </tbody>\n",
       "</table>\n",
       "</div>"
      ],
      "text/plain": [
       "                transitivity equality rationality\n",
       "Conservative 0       0.80865    1.496     1.10155\n",
       "Conservative 1      0.746316  1.51454     1.10595\n",
       "Conservative 2      0.879964  1.48158     1.05047\n",
       "Conservative 3      0.619976   1.4864     1.17615\n",
       "Conservative 4      0.701938  1.55116     1.10308\n",
       "Conservative 5      0.810766  1.43443     1.09458\n",
       "Conservative 6       0.91291  1.43642     1.04368\n",
       "Conservative 7      0.887692  1.46835     1.04848\n",
       "Conservative 8      0.783697  1.49317     1.06068\n",
       "Conservative 9      0.829981  1.44578     1.07221\n",
       "Conservative 10     0.806062  1.49756     1.10044"
      ]
     },
     "metadata": {},
     "output_type": "display_data"
    }
   ],
   "source": [
    "scale_triads = df.divide(df.sum(axis=0), axis=1)\n",
    "scale_reddits = scale_triads.divide(scale_triads.sum(axis=1), axis=0)\n",
    "scaled = scale_reddits.dot(dims)\n",
    "display(scaled[:11])"
   ]
  },
  {
   "cell_type": "markdown",
   "metadata": {},
   "source": [
    "## Reddit Data: Feature Scaling"
   ]
  },
  {
   "cell_type": "code",
   "execution_count": 59,
   "metadata": {},
   "outputs": [
    {
     "data": {
      "text/html": [
       "<div>\n",
       "<style scoped>\n",
       "    .dataframe tbody tr th:only-of-type {\n",
       "        vertical-align: middle;\n",
       "    }\n",
       "\n",
       "    .dataframe tbody tr th {\n",
       "        vertical-align: top;\n",
       "    }\n",
       "\n",
       "    .dataframe thead th {\n",
       "        text-align: right;\n",
       "    }\n",
       "</style>\n",
       "<table border=\"1\" class=\"dataframe\">\n",
       "  <thead>\n",
       "    <tr style=\"text-align: right;\">\n",
       "      <th></th>\n",
       "      <th>transitivity</th>\n",
       "      <th>equality</th>\n",
       "      <th>rationality</th>\n",
       "    </tr>\n",
       "  </thead>\n",
       "  <tbody>\n",
       "    <tr>\n",
       "      <th>Conservative 0</th>\n",
       "      <td>0.116333</td>\n",
       "      <td>0.571552</td>\n",
       "      <td>0.725549</td>\n",
       "    </tr>\n",
       "    <tr>\n",
       "      <th>Conservative 1</th>\n",
       "      <td>0.077899</td>\n",
       "      <td>0.608375</td>\n",
       "      <td>0.732110</td>\n",
       "    </tr>\n",
       "    <tr>\n",
       "      <th>Conservative 2</th>\n",
       "      <td>0.160303</td>\n",
       "      <td>0.542898</td>\n",
       "      <td>0.649433</td>\n",
       "    </tr>\n",
       "    <tr>\n",
       "      <th>Conservative 3</th>\n",
       "      <td>0.000000</td>\n",
       "      <td>0.552464</td>\n",
       "      <td>0.836715</td>\n",
       "    </tr>\n",
       "    <tr>\n",
       "      <th>Conservative 4</th>\n",
       "      <td>0.050536</td>\n",
       "      <td>0.681136</td>\n",
       "      <td>0.727824</td>\n",
       "    </tr>\n",
       "    <tr>\n",
       "      <th>Conservative 5</th>\n",
       "      <td>0.117637</td>\n",
       "      <td>0.449220</td>\n",
       "      <td>0.715161</td>\n",
       "    </tr>\n",
       "    <tr>\n",
       "      <th>Conservative 6</th>\n",
       "      <td>0.180617</td>\n",
       "      <td>0.453162</td>\n",
       "      <td>0.639311</td>\n",
       "    </tr>\n",
       "    <tr>\n",
       "      <th>Conservative 7</th>\n",
       "      <td>0.165069</td>\n",
       "      <td>0.516599</td>\n",
       "      <td>0.646468</td>\n",
       "    </tr>\n",
       "    <tr>\n",
       "      <th>Conservative 8</th>\n",
       "      <td>0.100947</td>\n",
       "      <td>0.565927</td>\n",
       "      <td>0.664647</td>\n",
       "    </tr>\n",
       "    <tr>\n",
       "      <th>Conservative 9</th>\n",
       "      <td>0.129485</td>\n",
       "      <td>0.471760</td>\n",
       "      <td>0.681823</td>\n",
       "    </tr>\n",
       "    <tr>\n",
       "      <th>Conservative 10</th>\n",
       "      <td>0.114737</td>\n",
       "      <td>0.574639</td>\n",
       "      <td>0.723898</td>\n",
       "    </tr>\n",
       "  </tbody>\n",
       "</table>\n",
       "</div>"
      ],
      "text/plain": [
       "                 transitivity  equality  rationality\n",
       "Conservative 0       0.116333  0.571552     0.725549\n",
       "Conservative 1       0.077899  0.608375     0.732110\n",
       "Conservative 2       0.160303  0.542898     0.649433\n",
       "Conservative 3       0.000000  0.552464     0.836715\n",
       "Conservative 4       0.050536  0.681136     0.727824\n",
       "Conservative 5       0.117637  0.449220     0.715161\n",
       "Conservative 6       0.180617  0.453162     0.639311\n",
       "Conservative 7       0.165069  0.516599     0.646468\n",
       "Conservative 8       0.100947  0.565927     0.664647\n",
       "Conservative 9       0.129485  0.471760     0.681823\n",
       "Conservative 10      0.114737  0.574639     0.723898"
      ]
     },
     "metadata": {},
     "output_type": "display_data"
    }
   ],
   "source": [
    "scaler = MinMaxScaler()\n",
    "scaled[['transitivity', 'equality', 'rationality']] = scaler.fit_transform(scaled[['transitivity', 'equality', 'rationality']])\n",
    "display(scaled[:11])"
   ]
  },
  {
   "cell_type": "markdown",
   "metadata": {},
   "source": [
    "## Reddit Data: Mean and Standard Deviation"
   ]
  },
  {
   "cell_type": "code",
   "execution_count": 60,
   "metadata": {},
   "outputs": [
    {
     "data": {
      "text/html": [
       "<div>\n",
       "<style scoped>\n",
       "    .dataframe tbody tr th:only-of-type {\n",
       "        vertical-align: middle;\n",
       "    }\n",
       "\n",
       "    .dataframe tbody tr th {\n",
       "        vertical-align: top;\n",
       "    }\n",
       "\n",
       "    .dataframe thead th {\n",
       "        text-align: right;\n",
       "    }\n",
       "</style>\n",
       "<table border=\"1\" class=\"dataframe\">\n",
       "  <thead>\n",
       "    <tr style=\"text-align: right;\">\n",
       "      <th></th>\n",
       "      <th>transitivity</th>\n",
       "      <th>equality</th>\n",
       "      <th>rationality</th>\n",
       "    </tr>\n",
       "  </thead>\n",
       "  <tbody>\n",
       "    <tr>\n",
       "      <th>Conservative</th>\n",
       "      <td>0.110324</td>\n",
       "      <td>0.544339</td>\n",
       "      <td>0.703904</td>\n",
       "    </tr>\n",
       "    <tr>\n",
       "      <th>conservatives</th>\n",
       "      <td>0.817714</td>\n",
       "      <td>0.349931</td>\n",
       "      <td>0.164720</td>\n",
       "    </tr>\n",
       "    <tr>\n",
       "      <th>Liberal</th>\n",
       "      <td>0.162635</td>\n",
       "      <td>0.432840</td>\n",
       "      <td>0.627877</td>\n",
       "    </tr>\n",
       "    <tr>\n",
       "      <th>Libertarian</th>\n",
       "      <td>0.150464</td>\n",
       "      <td>0.238666</td>\n",
       "      <td>0.882818</td>\n",
       "    </tr>\n",
       "    <tr>\n",
       "      <th>Republican</th>\n",
       "      <td>0.366962</td>\n",
       "      <td>0.619447</td>\n",
       "      <td>0.441340</td>\n",
       "    </tr>\n",
       "  </tbody>\n",
       "</table>\n",
       "</div>"
      ],
      "text/plain": [
       "               transitivity  equality  rationality\n",
       "Conservative       0.110324  0.544339     0.703904\n",
       "conservatives      0.817714  0.349931     0.164720\n",
       "Liberal            0.162635  0.432840     0.627877\n",
       "Libertarian        0.150464  0.238666     0.882818\n",
       "Republican         0.366962  0.619447     0.441340"
      ]
     },
     "metadata": {},
     "output_type": "display_data"
    },
    {
     "data": {
      "text/html": [
       "<div>\n",
       "<style scoped>\n",
       "    .dataframe tbody tr th:only-of-type {\n",
       "        vertical-align: middle;\n",
       "    }\n",
       "\n",
       "    .dataframe tbody tr th {\n",
       "        vertical-align: top;\n",
       "    }\n",
       "\n",
       "    .dataframe thead th {\n",
       "        text-align: right;\n",
       "    }\n",
       "</style>\n",
       "<table border=\"1\" class=\"dataframe\">\n",
       "  <thead>\n",
       "    <tr style=\"text-align: right;\">\n",
       "      <th></th>\n",
       "      <th>transitivity</th>\n",
       "      <th>equality</th>\n",
       "      <th>rationality</th>\n",
       "    </tr>\n",
       "  </thead>\n",
       "  <tbody>\n",
       "    <tr>\n",
       "      <th>Conservative</th>\n",
       "      <td>0.052723</td>\n",
       "      <td>0.069573</td>\n",
       "      <td>0.056981</td>\n",
       "    </tr>\n",
       "    <tr>\n",
       "      <th>conservatives</th>\n",
       "      <td>0.117086</td>\n",
       "      <td>0.204579</td>\n",
       "      <td>0.090887</td>\n",
       "    </tr>\n",
       "    <tr>\n",
       "      <th>Liberal</th>\n",
       "      <td>0.113081</td>\n",
       "      <td>0.165539</td>\n",
       "      <td>0.071866</td>\n",
       "    </tr>\n",
       "    <tr>\n",
       "      <th>Libertarian</th>\n",
       "      <td>0.053989</td>\n",
       "      <td>0.061155</td>\n",
       "      <td>0.067782</td>\n",
       "    </tr>\n",
       "    <tr>\n",
       "      <th>Republican</th>\n",
       "      <td>0.148121</td>\n",
       "      <td>0.223651</td>\n",
       "      <td>0.075860</td>\n",
       "    </tr>\n",
       "  </tbody>\n",
       "</table>\n",
       "</div>"
      ],
      "text/plain": [
       "               transitivity  equality  rationality\n",
       "Conservative       0.052723  0.069573     0.056981\n",
       "conservatives      0.117086  0.204579     0.090887\n",
       "Liberal            0.113081  0.165539     0.071866\n",
       "Libertarian        0.053989  0.061155     0.067782\n",
       "Republican         0.148121  0.223651     0.075860"
      ]
     },
     "metadata": {},
     "output_type": "display_data"
    }
   ],
   "source": [
    "def groupby_func(index):\n",
    "    return index.rsplit(' ', 1)[0]\n",
    "\n",
    "scaled['transitivity'] = pd.to_numeric(scaled['transitivity'])\n",
    "scaled['equality'] = pd.to_numeric(scaled['equality'])\n",
    "scaled['rationality'] = pd.to_numeric(scaled['rationality'])\n",
    "\n",
    "mean = scaled.groupby(by=groupby_func, sort=False).mean()\n",
    "std = scaled.groupby(by=groupby_func, sort=False).std()\n",
    "\n",
    "display(mean[:5])\n",
    "display(std[:5])"
   ]
  },
  {
   "cell_type": "markdown",
   "metadata": {},
   "source": [
    "## Reddit Data: Merge"
   ]
  },
  {
   "cell_type": "code",
   "execution_count": 61,
   "metadata": {},
   "outputs": [
    {
     "data": {
      "text/html": [
       "<div>\n",
       "<style scoped>\n",
       "    .dataframe tbody tr th:only-of-type {\n",
       "        vertical-align: middle;\n",
       "    }\n",
       "\n",
       "    .dataframe tbody tr th {\n",
       "        vertical-align: top;\n",
       "    }\n",
       "\n",
       "    .dataframe thead th {\n",
       "        text-align: right;\n",
       "    }\n",
       "</style>\n",
       "<table border=\"1\" class=\"dataframe\">\n",
       "  <thead>\n",
       "    <tr style=\"text-align: right;\">\n",
       "      <th></th>\n",
       "      <th>subreddit/party</th>\n",
       "      <th>transitivity_mean</th>\n",
       "      <th>equality_mean</th>\n",
       "      <th>rationality_mean</th>\n",
       "      <th>transitivity_std</th>\n",
       "      <th>equality_std</th>\n",
       "      <th>rationality_std</th>\n",
       "      <th>colour</th>\n",
       "    </tr>\n",
       "  </thead>\n",
       "  <tbody>\n",
       "    <tr>\n",
       "      <th>0</th>\n",
       "      <td>Conservative</td>\n",
       "      <td>0.110324</td>\n",
       "      <td>0.544339</td>\n",
       "      <td>0.703904</td>\n",
       "      <td>0.052723</td>\n",
       "      <td>0.069573</td>\n",
       "      <td>0.056981</td>\n",
       "      <td>Reddit</td>\n",
       "    </tr>\n",
       "    <tr>\n",
       "      <th>1</th>\n",
       "      <td>conservatives</td>\n",
       "      <td>0.817714</td>\n",
       "      <td>0.349931</td>\n",
       "      <td>0.164720</td>\n",
       "      <td>0.117086</td>\n",
       "      <td>0.204579</td>\n",
       "      <td>0.090887</td>\n",
       "      <td>Reddit</td>\n",
       "    </tr>\n",
       "    <tr>\n",
       "      <th>2</th>\n",
       "      <td>Liberal</td>\n",
       "      <td>0.162635</td>\n",
       "      <td>0.432840</td>\n",
       "      <td>0.627877</td>\n",
       "      <td>0.113081</td>\n",
       "      <td>0.165539</td>\n",
       "      <td>0.071866</td>\n",
       "      <td>Reddit</td>\n",
       "    </tr>\n",
       "    <tr>\n",
       "      <th>3</th>\n",
       "      <td>Libertarian</td>\n",
       "      <td>0.150464</td>\n",
       "      <td>0.238666</td>\n",
       "      <td>0.882818</td>\n",
       "      <td>0.053989</td>\n",
       "      <td>0.061155</td>\n",
       "      <td>0.067782</td>\n",
       "      <td>Reddit</td>\n",
       "    </tr>\n",
       "    <tr>\n",
       "      <th>4</th>\n",
       "      <td>Republican</td>\n",
       "      <td>0.366962</td>\n",
       "      <td>0.619447</td>\n",
       "      <td>0.441340</td>\n",
       "      <td>0.148121</td>\n",
       "      <td>0.223651</td>\n",
       "      <td>0.075860</td>\n",
       "      <td>Reddit</td>\n",
       "    </tr>\n",
       "    <tr>\n",
       "      <th>5</th>\n",
       "      <td>socialism</td>\n",
       "      <td>0.343485</td>\n",
       "      <td>0.445085</td>\n",
       "      <td>0.499301</td>\n",
       "      <td>0.108340</td>\n",
       "      <td>0.114517</td>\n",
       "      <td>0.088910</td>\n",
       "      <td>Reddit</td>\n",
       "    </tr>\n",
       "  </tbody>\n",
       "</table>\n",
       "</div>"
      ],
      "text/plain": [
       "  subreddit/party  transitivity_mean  equality_mean  rationality_mean  \\\n",
       "0    Conservative           0.110324       0.544339          0.703904   \n",
       "1   conservatives           0.817714       0.349931          0.164720   \n",
       "2         Liberal           0.162635       0.432840          0.627877   \n",
       "3     Libertarian           0.150464       0.238666          0.882818   \n",
       "4      Republican           0.366962       0.619447          0.441340   \n",
       "5       socialism           0.343485       0.445085          0.499301   \n",
       "\n",
       "   transitivity_std  equality_std  rationality_std  colour  \n",
       "0          0.052723      0.069573         0.056981  Reddit  \n",
       "1          0.117086      0.204579         0.090887  Reddit  \n",
       "2          0.113081      0.165539         0.071866  Reddit  \n",
       "3          0.053989      0.061155         0.067782  Reddit  \n",
       "4          0.148121      0.223651         0.075860  Reddit  \n",
       "5          0.108340      0.114517         0.088910  Reddit  "
      ]
     },
     "metadata": {},
     "output_type": "display_data"
    }
   ],
   "source": [
    "reddit = mean.merge(std, on=[mean.index], suffixes=('_mean', '_std'))\n",
    "reddit = reddit.rename(columns={'key_0':'subreddit/party'})\n",
    "reddit['colour'] = 'Reddit'\n",
    "display(reddit)"
   ]
  },
  {
   "cell_type": "markdown",
   "metadata": {},
   "source": [
    "## V-Party Data: 2 Dimensions"
   ]
  },
  {
   "cell_type": "code",
   "execution_count": 66,
   "metadata": {},
   "outputs": [
    {
     "data": {
      "text/html": [
       "<div>\n",
       "<style scoped>\n",
       "    .dataframe tbody tr th:only-of-type {\n",
       "        vertical-align: middle;\n",
       "    }\n",
       "\n",
       "    .dataframe tbody tr th {\n",
       "        vertical-align: top;\n",
       "    }\n",
       "\n",
       "    .dataframe thead th {\n",
       "        text-align: right;\n",
       "    }\n",
       "</style>\n",
       "<table border=\"1\" class=\"dataframe\">\n",
       "  <thead>\n",
       "    <tr style=\"text-align: right;\">\n",
       "      <th></th>\n",
       "      <th>subreddit/party</th>\n",
       "      <th>equality_mean</th>\n",
       "      <th>colour</th>\n",
       "      <th>transitivity_mean</th>\n",
       "    </tr>\n",
       "  </thead>\n",
       "  <tbody>\n",
       "    <tr>\n",
       "      <th>0</th>\n",
       "      <td>Liberal Party of Australia</td>\n",
       "      <td>4.150</td>\n",
       "      <td>Australia</td>\n",
       "      <td>27.027027</td>\n",
       "    </tr>\n",
       "    <tr>\n",
       "      <th>1</th>\n",
       "      <td>Australian Labor Party</td>\n",
       "      <td>1.825</td>\n",
       "      <td>Australia</td>\n",
       "      <td>27.027027</td>\n",
       "    </tr>\n",
       "    <tr>\n",
       "      <th>2</th>\n",
       "      <td>Democratic Party</td>\n",
       "      <td>2.173</td>\n",
       "      <td>United States of America</td>\n",
       "      <td>8.474576</td>\n",
       "    </tr>\n",
       "    <tr>\n",
       "      <th>3</th>\n",
       "      <td>Republican Party</td>\n",
       "      <td>4.654</td>\n",
       "      <td>United States of America</td>\n",
       "      <td>2.403846</td>\n",
       "    </tr>\n",
       "    <tr>\n",
       "      <th>4</th>\n",
       "      <td>Conservatives</td>\n",
       "      <td>3.751</td>\n",
       "      <td>United Kingdom</td>\n",
       "      <td>10.869565</td>\n",
       "    </tr>\n",
       "    <tr>\n",
       "      <th>5</th>\n",
       "      <td>Liberal Party</td>\n",
       "      <td>3.044</td>\n",
       "      <td>United Kingdom</td>\n",
       "      <td>14.084507</td>\n",
       "    </tr>\n",
       "    <tr>\n",
       "      <th>6</th>\n",
       "      <td>Labour</td>\n",
       "      <td>1.631</td>\n",
       "      <td>United Kingdom</td>\n",
       "      <td>10.752688</td>\n",
       "    </tr>\n",
       "    <tr>\n",
       "      <th>7</th>\n",
       "      <td>Conservative Party of Canada (2003)</td>\n",
       "      <td>4.181</td>\n",
       "      <td>Canada</td>\n",
       "      <td>9.090909</td>\n",
       "    </tr>\n",
       "    <tr>\n",
       "      <th>8</th>\n",
       "      <td>Liberal Party of Canada</td>\n",
       "      <td>1.782</td>\n",
       "      <td>Canada</td>\n",
       "      <td>17.857143</td>\n",
       "    </tr>\n",
       "    <tr>\n",
       "      <th>9</th>\n",
       "      <td>Christian Democratic Union</td>\n",
       "      <td>3.637</td>\n",
       "      <td>Germany</td>\n",
       "      <td>20.408163</td>\n",
       "    </tr>\n",
       "    <tr>\n",
       "      <th>10</th>\n",
       "      <td>Social Democratic Party of Germany</td>\n",
       "      <td>2.219</td>\n",
       "      <td>Germany</td>\n",
       "      <td>27.777778</td>\n",
       "    </tr>\n",
       "  </tbody>\n",
       "</table>\n",
       "</div>"
      ],
      "text/plain": [
       "                        subreddit/party  equality_mean  \\\n",
       "0            Liberal Party of Australia          4.150   \n",
       "1                Australian Labor Party          1.825   \n",
       "2                      Democratic Party          2.173   \n",
       "3                      Republican Party          4.654   \n",
       "4                         Conservatives          3.751   \n",
       "5                         Liberal Party          3.044   \n",
       "6                                Labour          1.631   \n",
       "7   Conservative Party of Canada (2003)          4.181   \n",
       "8               Liberal Party of Canada          1.782   \n",
       "9            Christian Democratic Union          3.637   \n",
       "10   Social Democratic Party of Germany          2.219   \n",
       "\n",
       "                      colour  transitivity_mean  \n",
       "0                  Australia          27.027027  \n",
       "1                  Australia          27.027027  \n",
       "2   United States of America           8.474576  \n",
       "3   United States of America           2.403846  \n",
       "4             United Kingdom          10.869565  \n",
       "5             United Kingdom          14.084507  \n",
       "6             United Kingdom          10.752688  \n",
       "7                     Canada           9.090909  \n",
       "8                     Canada          17.857143  \n",
       "9                    Germany          20.408163  \n",
       "10                   Germany          27.777778  "
      ]
     },
     "metadata": {},
     "output_type": "display_data"
    }
   ],
   "source": [
    "vp = pd.read_csv('results/vparty/politics_dims.csv')\n",
    "vp['transitivity_mean'] = 1 / vp['transitivity_inverse']\n",
    "vp = vp.drop(columns=['transitivity_inverse'])\n",
    "display(vp)"
   ]
  },
  {
   "cell_type": "markdown",
   "metadata": {},
   "source": [
    "## V-Party Data: Feature Scaling"
   ]
  },
  {
   "cell_type": "code",
   "execution_count": 67,
   "metadata": {},
   "outputs": [
    {
     "data": {
      "text/html": [
       "<div>\n",
       "<style scoped>\n",
       "    .dataframe tbody tr th:only-of-type {\n",
       "        vertical-align: middle;\n",
       "    }\n",
       "\n",
       "    .dataframe tbody tr th {\n",
       "        vertical-align: top;\n",
       "    }\n",
       "\n",
       "    .dataframe thead th {\n",
       "        text-align: right;\n",
       "    }\n",
       "</style>\n",
       "<table border=\"1\" class=\"dataframe\">\n",
       "  <thead>\n",
       "    <tr style=\"text-align: right;\">\n",
       "      <th></th>\n",
       "      <th>subreddit/party</th>\n",
       "      <th>equality_mean</th>\n",
       "      <th>colour</th>\n",
       "      <th>transitivity_mean</th>\n",
       "    </tr>\n",
       "  </thead>\n",
       "  <tbody>\n",
       "    <tr>\n",
       "      <th>0</th>\n",
       "      <td>Liberal Party of Australia</td>\n",
       "      <td>0.833278</td>\n",
       "      <td>Australia</td>\n",
       "      <td>0.970413</td>\n",
       "    </tr>\n",
       "    <tr>\n",
       "      <th>1</th>\n",
       "      <td>Australian Labor Party</td>\n",
       "      <td>0.064175</td>\n",
       "      <td>Australia</td>\n",
       "      <td>0.970413</td>\n",
       "    </tr>\n",
       "    <tr>\n",
       "      <th>2</th>\n",
       "      <td>Democratic Party</td>\n",
       "      <td>0.179292</td>\n",
       "      <td>United States of America</td>\n",
       "      <td>0.239251</td>\n",
       "    </tr>\n",
       "    <tr>\n",
       "      <th>3</th>\n",
       "      <td>Republican Party</td>\n",
       "      <td>1.000000</td>\n",
       "      <td>United States of America</td>\n",
       "      <td>0.000000</td>\n",
       "    </tr>\n",
       "    <tr>\n",
       "      <th>4</th>\n",
       "      <td>Conservatives</td>\n",
       "      <td>0.701290</td>\n",
       "      <td>United Kingdom</td>\n",
       "      <td>0.333638</td>\n",
       "    </tr>\n",
       "    <tr>\n",
       "      <th>5</th>\n",
       "      <td>Liberal Party</td>\n",
       "      <td>0.467416</td>\n",
       "      <td>United Kingdom</td>\n",
       "      <td>0.460341</td>\n",
       "    </tr>\n",
       "    <tr>\n",
       "      <th>6</th>\n",
       "      <td>Labour</td>\n",
       "      <td>0.000000</td>\n",
       "      <td>United Kingdom</td>\n",
       "      <td>0.329032</td>\n",
       "    </tr>\n",
       "    <tr>\n",
       "      <th>7</th>\n",
       "      <td>Conservative Party of Canada (2003)</td>\n",
       "      <td>0.843533</td>\n",
       "      <td>Canada</td>\n",
       "      <td>0.263541</td>\n",
       "    </tr>\n",
       "    <tr>\n",
       "      <th>8</th>\n",
       "      <td>Liberal Party of Canada</td>\n",
       "      <td>0.049950</td>\n",
       "      <td>Canada</td>\n",
       "      <td>0.609023</td>\n",
       "    </tr>\n",
       "    <tr>\n",
       "      <th>9</th>\n",
       "      <td>Christian Democratic Union</td>\n",
       "      <td>0.663579</td>\n",
       "      <td>Germany</td>\n",
       "      <td>0.709560</td>\n",
       "    </tr>\n",
       "    <tr>\n",
       "      <th>10</th>\n",
       "      <td>Social Democratic Party of Germany</td>\n",
       "      <td>0.194509</td>\n",
       "      <td>Germany</td>\n",
       "      <td>1.000000</td>\n",
       "    </tr>\n",
       "  </tbody>\n",
       "</table>\n",
       "</div>"
      ],
      "text/plain": [
       "                        subreddit/party  equality_mean  \\\n",
       "0            Liberal Party of Australia       0.833278   \n",
       "1                Australian Labor Party       0.064175   \n",
       "2                      Democratic Party       0.179292   \n",
       "3                      Republican Party       1.000000   \n",
       "4                         Conservatives       0.701290   \n",
       "5                         Liberal Party       0.467416   \n",
       "6                                Labour       0.000000   \n",
       "7   Conservative Party of Canada (2003)       0.843533   \n",
       "8               Liberal Party of Canada       0.049950   \n",
       "9            Christian Democratic Union       0.663579   \n",
       "10   Social Democratic Party of Germany       0.194509   \n",
       "\n",
       "                      colour  transitivity_mean  \n",
       "0                  Australia           0.970413  \n",
       "1                  Australia           0.970413  \n",
       "2   United States of America           0.239251  \n",
       "3   United States of America           0.000000  \n",
       "4             United Kingdom           0.333638  \n",
       "5             United Kingdom           0.460341  \n",
       "6             United Kingdom           0.329032  \n",
       "7                     Canada           0.263541  \n",
       "8                     Canada           0.609023  \n",
       "9                    Germany           0.709560  \n",
       "10                   Germany           1.000000  "
      ]
     },
     "metadata": {},
     "output_type": "display_data"
    }
   ],
   "source": [
    "vp[['transitivity_mean', 'equality_mean']] = scaler.fit_transform(vp[['transitivity_mean', 'equality_mean']])\n",
    "display(vp)"
   ]
  },
  {
   "cell_type": "markdown",
   "metadata": {},
   "source": [
    "## Combining & Plotting Both Datasets\n",
    "\n",
    "Note: attributes not present in the V-Party dataset (rationality_mean, equality_std, transitivity_std, rationality_std) are filled with a 0."
   ]
  },
  {
   "cell_type": "code",
   "execution_count": 70,
   "metadata": {},
   "outputs": [
    {
     "data": {
      "text/html": [
       "<div>\n",
       "<style scoped>\n",
       "    .dataframe tbody tr th:only-of-type {\n",
       "        vertical-align: middle;\n",
       "    }\n",
       "\n",
       "    .dataframe tbody tr th {\n",
       "        vertical-align: top;\n",
       "    }\n",
       "\n",
       "    .dataframe thead th {\n",
       "        text-align: right;\n",
       "    }\n",
       "</style>\n",
       "<table border=\"1\" class=\"dataframe\">\n",
       "  <thead>\n",
       "    <tr style=\"text-align: right;\">\n",
       "      <th></th>\n",
       "      <th>subreddit/party</th>\n",
       "      <th>transitivity_mean</th>\n",
       "      <th>equality_mean</th>\n",
       "      <th>rationality_mean</th>\n",
       "      <th>transitivity_std</th>\n",
       "      <th>equality_std</th>\n",
       "      <th>rationality_std</th>\n",
       "      <th>colour</th>\n",
       "    </tr>\n",
       "  </thead>\n",
       "  <tbody>\n",
       "    <tr>\n",
       "      <th>0</th>\n",
       "      <td>Conservative</td>\n",
       "      <td>0.110324</td>\n",
       "      <td>0.544339</td>\n",
       "      <td>0.703904</td>\n",
       "      <td>0.052723</td>\n",
       "      <td>0.069573</td>\n",
       "      <td>0.056981</td>\n",
       "      <td>Reddit</td>\n",
       "    </tr>\n",
       "    <tr>\n",
       "      <th>1</th>\n",
       "      <td>conservatives</td>\n",
       "      <td>0.817714</td>\n",
       "      <td>0.349931</td>\n",
       "      <td>0.164720</td>\n",
       "      <td>0.117086</td>\n",
       "      <td>0.204579</td>\n",
       "      <td>0.090887</td>\n",
       "      <td>Reddit</td>\n",
       "    </tr>\n",
       "    <tr>\n",
       "      <th>2</th>\n",
       "      <td>Liberal</td>\n",
       "      <td>0.162635</td>\n",
       "      <td>0.432840</td>\n",
       "      <td>0.627877</td>\n",
       "      <td>0.113081</td>\n",
       "      <td>0.165539</td>\n",
       "      <td>0.071866</td>\n",
       "      <td>Reddit</td>\n",
       "    </tr>\n",
       "    <tr>\n",
       "      <th>3</th>\n",
       "      <td>Libertarian</td>\n",
       "      <td>0.150464</td>\n",
       "      <td>0.238666</td>\n",
       "      <td>0.882818</td>\n",
       "      <td>0.053989</td>\n",
       "      <td>0.061155</td>\n",
       "      <td>0.067782</td>\n",
       "      <td>Reddit</td>\n",
       "    </tr>\n",
       "    <tr>\n",
       "      <th>4</th>\n",
       "      <td>Republican</td>\n",
       "      <td>0.366962</td>\n",
       "      <td>0.619447</td>\n",
       "      <td>0.441340</td>\n",
       "      <td>0.148121</td>\n",
       "      <td>0.223651</td>\n",
       "      <td>0.075860</td>\n",
       "      <td>Reddit</td>\n",
       "    </tr>\n",
       "    <tr>\n",
       "      <th>5</th>\n",
       "      <td>socialism</td>\n",
       "      <td>0.343485</td>\n",
       "      <td>0.445085</td>\n",
       "      <td>0.499301</td>\n",
       "      <td>0.108340</td>\n",
       "      <td>0.114517</td>\n",
       "      <td>0.088910</td>\n",
       "      <td>Reddit</td>\n",
       "    </tr>\n",
       "    <tr>\n",
       "      <th>6</th>\n",
       "      <td>Liberal Party of Australia</td>\n",
       "      <td>0.970413</td>\n",
       "      <td>0.833278</td>\n",
       "      <td>0.000000</td>\n",
       "      <td>0.000000</td>\n",
       "      <td>0.000000</td>\n",
       "      <td>0.000000</td>\n",
       "      <td>Australia</td>\n",
       "    </tr>\n",
       "    <tr>\n",
       "      <th>7</th>\n",
       "      <td>Australian Labor Party</td>\n",
       "      <td>0.970413</td>\n",
       "      <td>0.064175</td>\n",
       "      <td>0.000000</td>\n",
       "      <td>0.000000</td>\n",
       "      <td>0.000000</td>\n",
       "      <td>0.000000</td>\n",
       "      <td>Australia</td>\n",
       "    </tr>\n",
       "    <tr>\n",
       "      <th>8</th>\n",
       "      <td>Democratic Party</td>\n",
       "      <td>0.239251</td>\n",
       "      <td>0.179292</td>\n",
       "      <td>0.000000</td>\n",
       "      <td>0.000000</td>\n",
       "      <td>0.000000</td>\n",
       "      <td>0.000000</td>\n",
       "      <td>United States of America</td>\n",
       "    </tr>\n",
       "    <tr>\n",
       "      <th>9</th>\n",
       "      <td>Republican Party</td>\n",
       "      <td>0.000000</td>\n",
       "      <td>1.000000</td>\n",
       "      <td>0.000000</td>\n",
       "      <td>0.000000</td>\n",
       "      <td>0.000000</td>\n",
       "      <td>0.000000</td>\n",
       "      <td>United States of America</td>\n",
       "    </tr>\n",
       "    <tr>\n",
       "      <th>10</th>\n",
       "      <td>Conservatives</td>\n",
       "      <td>0.333638</td>\n",
       "      <td>0.701290</td>\n",
       "      <td>0.000000</td>\n",
       "      <td>0.000000</td>\n",
       "      <td>0.000000</td>\n",
       "      <td>0.000000</td>\n",
       "      <td>United Kingdom</td>\n",
       "    </tr>\n",
       "    <tr>\n",
       "      <th>11</th>\n",
       "      <td>Liberal Party</td>\n",
       "      <td>0.460341</td>\n",
       "      <td>0.467416</td>\n",
       "      <td>0.000000</td>\n",
       "      <td>0.000000</td>\n",
       "      <td>0.000000</td>\n",
       "      <td>0.000000</td>\n",
       "      <td>United Kingdom</td>\n",
       "    </tr>\n",
       "    <tr>\n",
       "      <th>12</th>\n",
       "      <td>Labour</td>\n",
       "      <td>0.329032</td>\n",
       "      <td>0.000000</td>\n",
       "      <td>0.000000</td>\n",
       "      <td>0.000000</td>\n",
       "      <td>0.000000</td>\n",
       "      <td>0.000000</td>\n",
       "      <td>United Kingdom</td>\n",
       "    </tr>\n",
       "    <tr>\n",
       "      <th>13</th>\n",
       "      <td>Conservative Party of Canada (2003)</td>\n",
       "      <td>0.263541</td>\n",
       "      <td>0.843533</td>\n",
       "      <td>0.000000</td>\n",
       "      <td>0.000000</td>\n",
       "      <td>0.000000</td>\n",
       "      <td>0.000000</td>\n",
       "      <td>Canada</td>\n",
       "    </tr>\n",
       "    <tr>\n",
       "      <th>14</th>\n",
       "      <td>Liberal Party of Canada</td>\n",
       "      <td>0.609023</td>\n",
       "      <td>0.049950</td>\n",
       "      <td>0.000000</td>\n",
       "      <td>0.000000</td>\n",
       "      <td>0.000000</td>\n",
       "      <td>0.000000</td>\n",
       "      <td>Canada</td>\n",
       "    </tr>\n",
       "    <tr>\n",
       "      <th>15</th>\n",
       "      <td>Christian Democratic Union</td>\n",
       "      <td>0.709560</td>\n",
       "      <td>0.663579</td>\n",
       "      <td>0.000000</td>\n",
       "      <td>0.000000</td>\n",
       "      <td>0.000000</td>\n",
       "      <td>0.000000</td>\n",
       "      <td>Germany</td>\n",
       "    </tr>\n",
       "    <tr>\n",
       "      <th>16</th>\n",
       "      <td>Social Democratic Party of Germany</td>\n",
       "      <td>1.000000</td>\n",
       "      <td>0.194509</td>\n",
       "      <td>0.000000</td>\n",
       "      <td>0.000000</td>\n",
       "      <td>0.000000</td>\n",
       "      <td>0.000000</td>\n",
       "      <td>Germany</td>\n",
       "    </tr>\n",
       "  </tbody>\n",
       "</table>\n",
       "</div>"
      ],
      "text/plain": [
       "                        subreddit/party  transitivity_mean  equality_mean  \\\n",
       "0                          Conservative           0.110324       0.544339   \n",
       "1                         conservatives           0.817714       0.349931   \n",
       "2                               Liberal           0.162635       0.432840   \n",
       "3                           Libertarian           0.150464       0.238666   \n",
       "4                            Republican           0.366962       0.619447   \n",
       "5                             socialism           0.343485       0.445085   \n",
       "6            Liberal Party of Australia           0.970413       0.833278   \n",
       "7                Australian Labor Party           0.970413       0.064175   \n",
       "8                      Democratic Party           0.239251       0.179292   \n",
       "9                      Republican Party           0.000000       1.000000   \n",
       "10                        Conservatives           0.333638       0.701290   \n",
       "11                        Liberal Party           0.460341       0.467416   \n",
       "12                               Labour           0.329032       0.000000   \n",
       "13  Conservative Party of Canada (2003)           0.263541       0.843533   \n",
       "14              Liberal Party of Canada           0.609023       0.049950   \n",
       "15           Christian Democratic Union           0.709560       0.663579   \n",
       "16   Social Democratic Party of Germany           1.000000       0.194509   \n",
       "\n",
       "    rationality_mean  transitivity_std  equality_std  rationality_std  \\\n",
       "0           0.703904          0.052723      0.069573         0.056981   \n",
       "1           0.164720          0.117086      0.204579         0.090887   \n",
       "2           0.627877          0.113081      0.165539         0.071866   \n",
       "3           0.882818          0.053989      0.061155         0.067782   \n",
       "4           0.441340          0.148121      0.223651         0.075860   \n",
       "5           0.499301          0.108340      0.114517         0.088910   \n",
       "6           0.000000          0.000000      0.000000         0.000000   \n",
       "7           0.000000          0.000000      0.000000         0.000000   \n",
       "8           0.000000          0.000000      0.000000         0.000000   \n",
       "9           0.000000          0.000000      0.000000         0.000000   \n",
       "10          0.000000          0.000000      0.000000         0.000000   \n",
       "11          0.000000          0.000000      0.000000         0.000000   \n",
       "12          0.000000          0.000000      0.000000         0.000000   \n",
       "13          0.000000          0.000000      0.000000         0.000000   \n",
       "14          0.000000          0.000000      0.000000         0.000000   \n",
       "15          0.000000          0.000000      0.000000         0.000000   \n",
       "16          0.000000          0.000000      0.000000         0.000000   \n",
       "\n",
       "                      colour  \n",
       "0                     Reddit  \n",
       "1                     Reddit  \n",
       "2                     Reddit  \n",
       "3                     Reddit  \n",
       "4                     Reddit  \n",
       "5                     Reddit  \n",
       "6                  Australia  \n",
       "7                  Australia  \n",
       "8   United States of America  \n",
       "9   United States of America  \n",
       "10            United Kingdom  \n",
       "11            United Kingdom  \n",
       "12            United Kingdom  \n",
       "13                    Canada  \n",
       "14                    Canada  \n",
       "15                   Germany  \n",
       "16                   Germany  "
      ]
     },
     "metadata": {},
     "output_type": "display_data"
    },
    {
     "data": {
      "application/vnd.plotly.v1+json": {
       "config": {
        "plotlyServerURL": "https://plotly.com"
       },
       "data": [
        {
         "customdata": [
          [
           "Conservative",
           0.05272337191601197,
           0.06957348284649521,
           0.05698111577649725
          ],
          [
           "conservatives",
           0.1170860240202203,
           0.20457936901879212,
           0.09088707316437163
          ],
          [
           "Liberal",
           0.11308102591477508,
           0.16553857793507118,
           0.07186585838054352
          ],
          [
           "Libertarian",
           0.05398939097766306,
           0.06115535270075113,
           0.0677816419070588
          ],
          [
           "Republican",
           0.14812057030496212,
           0.22365118457126676,
           0.07585971917623917
          ],
          [
           "socialism",
           0.10834023735481287,
           0.11451665385300366,
           0.08890993016048387
          ]
         ],
         "error_x": {
          "array": [
           0.05272337191601197,
           0.1170860240202203,
           0.11308102591477508,
           0.05398939097766306,
           0.14812057030496212,
           0.10834023735481287
          ]
         },
         "error_y": {
          "array": [
           0.06957348284649521,
           0.20457936901879212,
           0.16553857793507118,
           0.06115535270075113,
           0.22365118457126676,
           0.11451665385300366
          ]
         },
         "error_z": {
          "array": [
           0.05698111577649725,
           0.09088707316437163,
           0.07186585838054352,
           0.0677816419070588,
           0.07585971917623917,
           0.08890993016048387
          ]
         },
         "hovertemplate": "<b>Subreddit/Party: %{customdata[0]}</b><br>Transitivity mean: %{x:.2f}<br>Equality mean: %{y:.2f}<br>Rationality mean: %{z:.2f}<br>Transitivity std: %{customdata[1]:.2f}<br>Equality std: %{customdata[2]:.2f}<br>Rationality std: %{customdata[3]:.2f}",
         "hovertext": [
          "Conservative",
          "conservatives",
          "Liberal",
          "Libertarian",
          "Republican",
          "socialism"
         ],
         "legendgroup": "Reddit",
         "marker": {
          "color": "#636efa",
          "symbol": "circle"
         },
         "mode": "markers",
         "name": "Reddit",
         "scene": "scene",
         "showlegend": true,
         "type": "scatter3d",
         "x": [
          0.11032400788386636,
          0.8177144516530054,
          0.16263518387602943,
          0.15046435252665466,
          0.3669621574624849,
          0.3434845677389563
         ],
         "y": [
          0.5443392269934574,
          0.3499309868330264,
          0.43283982502328566,
          0.23866608640583228,
          0.6194465183360979,
          0.44508525415830813
         ],
         "z": [
          0.7039036290121136,
          0.16471952456015718,
          0.6278773600813213,
          0.8828178756939935,
          0.44134018779122375,
          0.4993009757337394
         ]
        },
        {
         "customdata": [
          [
           "Liberal Party of Australia",
           0,
           0,
           0
          ],
          [
           "Australian Labor Party",
           0,
           0,
           0
          ]
         ],
         "error_x": {
          "array": [
           0,
           0
          ]
         },
         "error_y": {
          "array": [
           0,
           0
          ]
         },
         "error_z": {
          "array": [
           0,
           0
          ]
         },
         "hovertemplate": "<b>Subreddit/Party: %{customdata[0]}</b><br>Transitivity mean: %{x:.2f}<br>Equality mean: %{y:.2f}<br>Rationality mean: %{z:.2f}<br>Transitivity std: %{customdata[1]:.2f}<br>Equality std: %{customdata[2]:.2f}<br>Rationality std: %{customdata[3]:.2f}",
         "hovertext": [
          "Liberal Party of Australia",
          "Australian Labor Party"
         ],
         "legendgroup": "Australia",
         "marker": {
          "color": "#EF553B",
          "symbol": "circle"
         },
         "mode": "markers",
         "name": "Australia",
         "scene": "scene",
         "showlegend": true,
         "type": "scatter3d",
         "x": [
          0.970412517780939,
          0.970412517780939
         ],
         "y": [
          0.8332782004631164,
          0.06417466093284818
         ],
         "z": [
          0,
          0
         ]
        },
        {
         "customdata": [
          [
           "Democratic Party",
           0,
           0,
           0
          ],
          [
           "Republican Party",
           0,
           0,
           0
          ]
         ],
         "error_x": {
          "array": [
           0,
           0
          ]
         },
         "error_y": {
          "array": [
           0,
           0
          ]
         },
         "error_z": {
          "array": [
           0,
           0
          ]
         },
         "hovertemplate": "<b>Subreddit/Party: %{customdata[0]}</b><br>Transitivity mean: %{x:.2f}<br>Equality mean: %{y:.2f}<br>Rationality mean: %{z:.2f}<br>Transitivity std: %{customdata[1]:.2f}<br>Equality std: %{customdata[2]:.2f}<br>Rationality std: %{customdata[3]:.2f}",
         "hovertext": [
          "Democratic Party",
          "Republican Party"
         ],
         "legendgroup": "United States of America",
         "marker": {
          "color": "#00cc96",
          "symbol": "circle"
         },
         "mode": "markers",
         "name": "United States of America",
         "scene": "scene",
         "showlegend": true,
         "type": "scatter3d",
         "x": [
          0.23925066904549508,
          0
         ],
         "y": [
          0.17929209394641088,
          1
         ],
         "z": [
          0,
          0
         ]
        },
        {
         "customdata": [
          [
           "Conservatives",
           0,
           0,
           0
          ],
          [
           "Liberal Party",
           0,
           0,
           0
          ],
          [
           "Labour",
           0,
           0,
           0
          ]
         ],
         "error_x": {
          "array": [
           0,
           0,
           0
          ]
         },
         "error_y": {
          "array": [
           0,
           0,
           0
          ]
         },
         "error_z": {
          "array": [
           0,
           0,
           0
          ]
         },
         "hovertemplate": "<b>Subreddit/Party: %{customdata[0]}</b><br>Transitivity mean: %{x:.2f}<br>Equality mean: %{y:.2f}<br>Rationality mean: %{z:.2f}<br>Transitivity std: %{customdata[1]:.2f}<br>Equality std: %{customdata[2]:.2f}<br>Rationality std: %{customdata[3]:.2f}",
         "hovertext": [
          "Conservatives",
          "Liberal Party",
          "Labour"
         ],
         "legendgroup": "United Kingdom",
         "marker": {
          "color": "#ab63fa",
          "symbol": "circle"
         },
         "mode": "markers",
         "name": "United Kingdom",
         "scene": "scene",
         "showlegend": true,
         "type": "scatter3d",
         "x": [
          0.33363844393592684,
          0.46034099332839146,
          0.32903225806451614
         ],
         "y": [
          0.7012901091630833,
          0.46741647370162076,
          0
         ],
         "z": [
          0,
          0,
          0
         ]
        },
        {
         "customdata": [
          [
           "Conservative Party of Canada (2003)",
           0,
           0,
           0
          ],
          [
           "Liberal Party of Canada",
           0,
           0,
           0
          ]
         ],
         "error_x": {
          "array": [
           0,
           0
          ]
         },
         "error_y": {
          "array": [
           0,
           0
          ]
         },
         "error_z": {
          "array": [
           0,
           0
          ]
         },
         "hovertemplate": "<b>Subreddit/Party: %{customdata[0]}</b><br>Transitivity mean: %{x:.2f}<br>Equality mean: %{y:.2f}<br>Rationality mean: %{z:.2f}<br>Transitivity std: %{customdata[1]:.2f}<br>Equality std: %{customdata[2]:.2f}<br>Rationality std: %{customdata[3]:.2f}",
         "hovertext": [
          "Conservative Party of Canada (2003)",
          "Liberal Party of Canada"
         ],
         "legendgroup": "Canada",
         "marker": {
          "color": "#FFA15A",
          "symbol": "circle"
         },
         "mode": "markers",
         "name": "Canada",
         "scene": "scene",
         "showlegend": true,
         "type": "scatter3d",
         "x": [
          0.2635406698564594,
          0.6090225563909776
         ],
         "y": [
          0.8435329143235198,
          0.04995038041680444
         ],
         "z": [
          0,
          0
         ]
        },
        {
         "customdata": [
          [
           "Christian Democratic Union",
           0,
           0,
           0
          ],
          [
           "Social Democratic Party of Germany",
           0,
           0,
           0
          ]
         ],
         "error_x": {
          "array": [
           0,
           0
          ]
         },
         "error_y": {
          "array": [
           0,
           0
          ]
         },
         "error_z": {
          "array": [
           0,
           0
          ]
         },
         "hovertemplate": "<b>Subreddit/Party: %{customdata[0]}</b><br>Transitivity mean: %{x:.2f}<br>Equality mean: %{y:.2f}<br>Rationality mean: %{z:.2f}<br>Transitivity std: %{customdata[1]:.2f}<br>Equality std: %{customdata[2]:.2f}<br>Rationality std: %{customdata[3]:.2f}",
         "hovertext": [
          "Christian Democratic Union",
          "Social Democratic Party of Germany"
         ],
         "legendgroup": "Germany",
         "marker": {
          "color": "#19d3f3",
          "symbol": "circle"
         },
         "mode": "markers",
         "name": "Germany",
         "scene": "scene",
         "showlegend": true,
         "type": "scatter3d",
         "x": [
          0.709559613319012,
          1
         ],
         "y": [
          0.6635792259345022,
          0.19450876612636459
         ],
         "z": [
          0,
          0
         ]
        }
       ],
       "layout": {
        "legend": {
         "title": {
          "text": "colour"
         },
         "tracegroupgap": 0
        },
        "margin": {
         "t": 60
        },
        "scene": {
         "domain": {
          "x": [
           0,
           1
          ],
          "y": [
           0,
           1
          ]
         },
         "xaxis": {
          "title": {
           "text": "transitivity_mean"
          }
         },
         "yaxis": {
          "title": {
           "text": "equality_mean"
          }
         },
         "zaxis": {
          "title": {
           "text": "rationality_mean"
          }
         }
        },
        "template": {
         "data": {
          "bar": [
           {
            "error_x": {
             "color": "#2a3f5f"
            },
            "error_y": {
             "color": "#2a3f5f"
            },
            "marker": {
             "line": {
              "color": "#E5ECF6",
              "width": 0.5
             }
            },
            "type": "bar"
           }
          ],
          "barpolar": [
           {
            "marker": {
             "line": {
              "color": "#E5ECF6",
              "width": 0.5
             }
            },
            "type": "barpolar"
           }
          ],
          "carpet": [
           {
            "aaxis": {
             "endlinecolor": "#2a3f5f",
             "gridcolor": "white",
             "linecolor": "white",
             "minorgridcolor": "white",
             "startlinecolor": "#2a3f5f"
            },
            "baxis": {
             "endlinecolor": "#2a3f5f",
             "gridcolor": "white",
             "linecolor": "white",
             "minorgridcolor": "white",
             "startlinecolor": "#2a3f5f"
            },
            "type": "carpet"
           }
          ],
          "choropleth": [
           {
            "colorbar": {
             "outlinewidth": 0,
             "ticks": ""
            },
            "type": "choropleth"
           }
          ],
          "contour": [
           {
            "colorbar": {
             "outlinewidth": 0,
             "ticks": ""
            },
            "colorscale": [
             [
              0,
              "#0d0887"
             ],
             [
              0.1111111111111111,
              "#46039f"
             ],
             [
              0.2222222222222222,
              "#7201a8"
             ],
             [
              0.3333333333333333,
              "#9c179e"
             ],
             [
              0.4444444444444444,
              "#bd3786"
             ],
             [
              0.5555555555555556,
              "#d8576b"
             ],
             [
              0.6666666666666666,
              "#ed7953"
             ],
             [
              0.7777777777777778,
              "#fb9f3a"
             ],
             [
              0.8888888888888888,
              "#fdca26"
             ],
             [
              1,
              "#f0f921"
             ]
            ],
            "type": "contour"
           }
          ],
          "contourcarpet": [
           {
            "colorbar": {
             "outlinewidth": 0,
             "ticks": ""
            },
            "type": "contourcarpet"
           }
          ],
          "heatmap": [
           {
            "colorbar": {
             "outlinewidth": 0,
             "ticks": ""
            },
            "colorscale": [
             [
              0,
              "#0d0887"
             ],
             [
              0.1111111111111111,
              "#46039f"
             ],
             [
              0.2222222222222222,
              "#7201a8"
             ],
             [
              0.3333333333333333,
              "#9c179e"
             ],
             [
              0.4444444444444444,
              "#bd3786"
             ],
             [
              0.5555555555555556,
              "#d8576b"
             ],
             [
              0.6666666666666666,
              "#ed7953"
             ],
             [
              0.7777777777777778,
              "#fb9f3a"
             ],
             [
              0.8888888888888888,
              "#fdca26"
             ],
             [
              1,
              "#f0f921"
             ]
            ],
            "type": "heatmap"
           }
          ],
          "heatmapgl": [
           {
            "colorbar": {
             "outlinewidth": 0,
             "ticks": ""
            },
            "colorscale": [
             [
              0,
              "#0d0887"
             ],
             [
              0.1111111111111111,
              "#46039f"
             ],
             [
              0.2222222222222222,
              "#7201a8"
             ],
             [
              0.3333333333333333,
              "#9c179e"
             ],
             [
              0.4444444444444444,
              "#bd3786"
             ],
             [
              0.5555555555555556,
              "#d8576b"
             ],
             [
              0.6666666666666666,
              "#ed7953"
             ],
             [
              0.7777777777777778,
              "#fb9f3a"
             ],
             [
              0.8888888888888888,
              "#fdca26"
             ],
             [
              1,
              "#f0f921"
             ]
            ],
            "type": "heatmapgl"
           }
          ],
          "histogram": [
           {
            "marker": {
             "colorbar": {
              "outlinewidth": 0,
              "ticks": ""
             }
            },
            "type": "histogram"
           }
          ],
          "histogram2d": [
           {
            "colorbar": {
             "outlinewidth": 0,
             "ticks": ""
            },
            "colorscale": [
             [
              0,
              "#0d0887"
             ],
             [
              0.1111111111111111,
              "#46039f"
             ],
             [
              0.2222222222222222,
              "#7201a8"
             ],
             [
              0.3333333333333333,
              "#9c179e"
             ],
             [
              0.4444444444444444,
              "#bd3786"
             ],
             [
              0.5555555555555556,
              "#d8576b"
             ],
             [
              0.6666666666666666,
              "#ed7953"
             ],
             [
              0.7777777777777778,
              "#fb9f3a"
             ],
             [
              0.8888888888888888,
              "#fdca26"
             ],
             [
              1,
              "#f0f921"
             ]
            ],
            "type": "histogram2d"
           }
          ],
          "histogram2dcontour": [
           {
            "colorbar": {
             "outlinewidth": 0,
             "ticks": ""
            },
            "colorscale": [
             [
              0,
              "#0d0887"
             ],
             [
              0.1111111111111111,
              "#46039f"
             ],
             [
              0.2222222222222222,
              "#7201a8"
             ],
             [
              0.3333333333333333,
              "#9c179e"
             ],
             [
              0.4444444444444444,
              "#bd3786"
             ],
             [
              0.5555555555555556,
              "#d8576b"
             ],
             [
              0.6666666666666666,
              "#ed7953"
             ],
             [
              0.7777777777777778,
              "#fb9f3a"
             ],
             [
              0.8888888888888888,
              "#fdca26"
             ],
             [
              1,
              "#f0f921"
             ]
            ],
            "type": "histogram2dcontour"
           }
          ],
          "mesh3d": [
           {
            "colorbar": {
             "outlinewidth": 0,
             "ticks": ""
            },
            "type": "mesh3d"
           }
          ],
          "parcoords": [
           {
            "line": {
             "colorbar": {
              "outlinewidth": 0,
              "ticks": ""
             }
            },
            "type": "parcoords"
           }
          ],
          "pie": [
           {
            "automargin": true,
            "type": "pie"
           }
          ],
          "scatter": [
           {
            "marker": {
             "colorbar": {
              "outlinewidth": 0,
              "ticks": ""
             }
            },
            "type": "scatter"
           }
          ],
          "scatter3d": [
           {
            "line": {
             "colorbar": {
              "outlinewidth": 0,
              "ticks": ""
             }
            },
            "marker": {
             "colorbar": {
              "outlinewidth": 0,
              "ticks": ""
             }
            },
            "type": "scatter3d"
           }
          ],
          "scattercarpet": [
           {
            "marker": {
             "colorbar": {
              "outlinewidth": 0,
              "ticks": ""
             }
            },
            "type": "scattercarpet"
           }
          ],
          "scattergeo": [
           {
            "marker": {
             "colorbar": {
              "outlinewidth": 0,
              "ticks": ""
             }
            },
            "type": "scattergeo"
           }
          ],
          "scattergl": [
           {
            "marker": {
             "colorbar": {
              "outlinewidth": 0,
              "ticks": ""
             }
            },
            "type": "scattergl"
           }
          ],
          "scattermapbox": [
           {
            "marker": {
             "colorbar": {
              "outlinewidth": 0,
              "ticks": ""
             }
            },
            "type": "scattermapbox"
           }
          ],
          "scatterpolar": [
           {
            "marker": {
             "colorbar": {
              "outlinewidth": 0,
              "ticks": ""
             }
            },
            "type": "scatterpolar"
           }
          ],
          "scatterpolargl": [
           {
            "marker": {
             "colorbar": {
              "outlinewidth": 0,
              "ticks": ""
             }
            },
            "type": "scatterpolargl"
           }
          ],
          "scatterternary": [
           {
            "marker": {
             "colorbar": {
              "outlinewidth": 0,
              "ticks": ""
             }
            },
            "type": "scatterternary"
           }
          ],
          "surface": [
           {
            "colorbar": {
             "outlinewidth": 0,
             "ticks": ""
            },
            "colorscale": [
             [
              0,
              "#0d0887"
             ],
             [
              0.1111111111111111,
              "#46039f"
             ],
             [
              0.2222222222222222,
              "#7201a8"
             ],
             [
              0.3333333333333333,
              "#9c179e"
             ],
             [
              0.4444444444444444,
              "#bd3786"
             ],
             [
              0.5555555555555556,
              "#d8576b"
             ],
             [
              0.6666666666666666,
              "#ed7953"
             ],
             [
              0.7777777777777778,
              "#fb9f3a"
             ],
             [
              0.8888888888888888,
              "#fdca26"
             ],
             [
              1,
              "#f0f921"
             ]
            ],
            "type": "surface"
           }
          ],
          "table": [
           {
            "cells": {
             "fill": {
              "color": "#EBF0F8"
             },
             "line": {
              "color": "white"
             }
            },
            "header": {
             "fill": {
              "color": "#C8D4E3"
             },
             "line": {
              "color": "white"
             }
            },
            "type": "table"
           }
          ]
         },
         "layout": {
          "annotationdefaults": {
           "arrowcolor": "#2a3f5f",
           "arrowhead": 0,
           "arrowwidth": 1
          },
          "coloraxis": {
           "colorbar": {
            "outlinewidth": 0,
            "ticks": ""
           }
          },
          "colorscale": {
           "diverging": [
            [
             0,
             "#8e0152"
            ],
            [
             0.1,
             "#c51b7d"
            ],
            [
             0.2,
             "#de77ae"
            ],
            [
             0.3,
             "#f1b6da"
            ],
            [
             0.4,
             "#fde0ef"
            ],
            [
             0.5,
             "#f7f7f7"
            ],
            [
             0.6,
             "#e6f5d0"
            ],
            [
             0.7,
             "#b8e186"
            ],
            [
             0.8,
             "#7fbc41"
            ],
            [
             0.9,
             "#4d9221"
            ],
            [
             1,
             "#276419"
            ]
           ],
           "sequential": [
            [
             0,
             "#0d0887"
            ],
            [
             0.1111111111111111,
             "#46039f"
            ],
            [
             0.2222222222222222,
             "#7201a8"
            ],
            [
             0.3333333333333333,
             "#9c179e"
            ],
            [
             0.4444444444444444,
             "#bd3786"
            ],
            [
             0.5555555555555556,
             "#d8576b"
            ],
            [
             0.6666666666666666,
             "#ed7953"
            ],
            [
             0.7777777777777778,
             "#fb9f3a"
            ],
            [
             0.8888888888888888,
             "#fdca26"
            ],
            [
             1,
             "#f0f921"
            ]
           ],
           "sequentialminus": [
            [
             0,
             "#0d0887"
            ],
            [
             0.1111111111111111,
             "#46039f"
            ],
            [
             0.2222222222222222,
             "#7201a8"
            ],
            [
             0.3333333333333333,
             "#9c179e"
            ],
            [
             0.4444444444444444,
             "#bd3786"
            ],
            [
             0.5555555555555556,
             "#d8576b"
            ],
            [
             0.6666666666666666,
             "#ed7953"
            ],
            [
             0.7777777777777778,
             "#fb9f3a"
            ],
            [
             0.8888888888888888,
             "#fdca26"
            ],
            [
             1,
             "#f0f921"
            ]
           ]
          },
          "colorway": [
           "#636efa",
           "#EF553B",
           "#00cc96",
           "#ab63fa",
           "#FFA15A",
           "#19d3f3",
           "#FF6692",
           "#B6E880",
           "#FF97FF",
           "#FECB52"
          ],
          "font": {
           "color": "#2a3f5f"
          },
          "geo": {
           "bgcolor": "white",
           "lakecolor": "white",
           "landcolor": "#E5ECF6",
           "showlakes": true,
           "showland": true,
           "subunitcolor": "white"
          },
          "hoverlabel": {
           "align": "left"
          },
          "hovermode": "closest",
          "mapbox": {
           "style": "light"
          },
          "paper_bgcolor": "white",
          "plot_bgcolor": "#E5ECF6",
          "polar": {
           "angularaxis": {
            "gridcolor": "white",
            "linecolor": "white",
            "ticks": ""
           },
           "bgcolor": "#E5ECF6",
           "radialaxis": {
            "gridcolor": "white",
            "linecolor": "white",
            "ticks": ""
           }
          },
          "scene": {
           "xaxis": {
            "backgroundcolor": "#E5ECF6",
            "gridcolor": "white",
            "gridwidth": 2,
            "linecolor": "white",
            "showbackground": true,
            "ticks": "",
            "zerolinecolor": "white"
           },
           "yaxis": {
            "backgroundcolor": "#E5ECF6",
            "gridcolor": "white",
            "gridwidth": 2,
            "linecolor": "white",
            "showbackground": true,
            "ticks": "",
            "zerolinecolor": "white"
           },
           "zaxis": {
            "backgroundcolor": "#E5ECF6",
            "gridcolor": "white",
            "gridwidth": 2,
            "linecolor": "white",
            "showbackground": true,
            "ticks": "",
            "zerolinecolor": "white"
           }
          },
          "shapedefaults": {
           "line": {
            "color": "#2a3f5f"
           }
          },
          "ternary": {
           "aaxis": {
            "gridcolor": "white",
            "linecolor": "white",
            "ticks": ""
           },
           "baxis": {
            "gridcolor": "white",
            "linecolor": "white",
            "ticks": ""
           },
           "bgcolor": "#E5ECF6",
           "caxis": {
            "gridcolor": "white",
            "linecolor": "white",
            "ticks": ""
           }
          },
          "title": {
           "x": 0.05
          },
          "xaxis": {
           "automargin": true,
           "gridcolor": "white",
           "linecolor": "white",
           "ticks": "",
           "title": {
            "standoff": 15
           },
           "zerolinecolor": "white",
           "zerolinewidth": 2
          },
          "yaxis": {
           "automargin": true,
           "gridcolor": "white",
           "linecolor": "white",
           "ticks": "",
           "title": {
            "standoff": 15
           },
           "zerolinecolor": "white",
           "zerolinewidth": 2
          }
         }
        }
       }
      },
      "text/html": [
       "<div>                            <div id=\"9f58ab48-5683-4c2e-81b9-5b29de1156a5\" class=\"plotly-graph-div\" style=\"height:525px; width:100%;\"></div>            <script type=\"text/javascript\">                require([\"plotly\"], function(Plotly) {                    window.PLOTLYENV=window.PLOTLYENV || {};                                    if (document.getElementById(\"9f58ab48-5683-4c2e-81b9-5b29de1156a5\")) {                    Plotly.newPlot(                        \"9f58ab48-5683-4c2e-81b9-5b29de1156a5\",                        [{\"customdata\": [[\"Conservative\", 0.05272337191601197, 0.06957348284649521, 0.05698111577649725], [\"conservatives\", 0.1170860240202203, 0.20457936901879212, 0.09088707316437163], [\"Liberal\", 0.11308102591477508, 0.16553857793507118, 0.07186585838054352], [\"Libertarian\", 0.05398939097766306, 0.06115535270075113, 0.0677816419070588], [\"Republican\", 0.14812057030496212, 0.22365118457126676, 0.07585971917623917], [\"socialism\", 0.10834023735481287, 0.11451665385300366, 0.08890993016048387]], \"error_x\": {\"array\": [0.05272337191601197, 0.1170860240202203, 0.11308102591477508, 0.05398939097766306, 0.14812057030496212, 0.10834023735481287]}, \"error_y\": {\"array\": [0.06957348284649521, 0.20457936901879212, 0.16553857793507118, 0.06115535270075113, 0.22365118457126676, 0.11451665385300366]}, \"error_z\": {\"array\": [0.05698111577649725, 0.09088707316437163, 0.07186585838054352, 0.0677816419070588, 0.07585971917623917, 0.08890993016048387]}, \"hovertemplate\": \"<b>Subreddit/Party: %{customdata[0]}</b><br>Transitivity mean: %{x:.2f}<br>Equality mean: %{y:.2f}<br>Rationality mean: %{z:.2f}<br>Transitivity std: %{customdata[1]:.2f}<br>Equality std: %{customdata[2]:.2f}<br>Rationality std: %{customdata[3]:.2f}\", \"hovertext\": [\"Conservative\", \"conservatives\", \"Liberal\", \"Libertarian\", \"Republican\", \"socialism\"], \"legendgroup\": \"Reddit\", \"marker\": {\"color\": \"#636efa\", \"symbol\": \"circle\"}, \"mode\": \"markers\", \"name\": \"Reddit\", \"scene\": \"scene\", \"showlegend\": true, \"type\": \"scatter3d\", \"x\": [0.11032400788386636, 0.8177144516530054, 0.16263518387602943, 0.15046435252665466, 0.3669621574624849, 0.3434845677389563], \"y\": [0.5443392269934574, 0.3499309868330264, 0.43283982502328566, 0.23866608640583228, 0.6194465183360979, 0.44508525415830813], \"z\": [0.7039036290121136, 0.16471952456015718, 0.6278773600813213, 0.8828178756939935, 0.44134018779122375, 0.4993009757337394]}, {\"customdata\": [[\"Liberal Party of Australia\", 0.0, 0.0, 0.0], [\"Australian Labor Party\", 0.0, 0.0, 0.0]], \"error_x\": {\"array\": [0.0, 0.0]}, \"error_y\": {\"array\": [0.0, 0.0]}, \"error_z\": {\"array\": [0.0, 0.0]}, \"hovertemplate\": \"<b>Subreddit/Party: %{customdata[0]}</b><br>Transitivity mean: %{x:.2f}<br>Equality mean: %{y:.2f}<br>Rationality mean: %{z:.2f}<br>Transitivity std: %{customdata[1]:.2f}<br>Equality std: %{customdata[2]:.2f}<br>Rationality std: %{customdata[3]:.2f}\", \"hovertext\": [\"Liberal Party of Australia\", \"Australian Labor Party\"], \"legendgroup\": \"Australia\", \"marker\": {\"color\": \"#EF553B\", \"symbol\": \"circle\"}, \"mode\": \"markers\", \"name\": \"Australia\", \"scene\": \"scene\", \"showlegend\": true, \"type\": \"scatter3d\", \"x\": [0.970412517780939, 0.970412517780939], \"y\": [0.8332782004631164, 0.06417466093284818], \"z\": [0.0, 0.0]}, {\"customdata\": [[\"Democratic Party\", 0.0, 0.0, 0.0], [\"Republican Party\", 0.0, 0.0, 0.0]], \"error_x\": {\"array\": [0.0, 0.0]}, \"error_y\": {\"array\": [0.0, 0.0]}, \"error_z\": {\"array\": [0.0, 0.0]}, \"hovertemplate\": \"<b>Subreddit/Party: %{customdata[0]}</b><br>Transitivity mean: %{x:.2f}<br>Equality mean: %{y:.2f}<br>Rationality mean: %{z:.2f}<br>Transitivity std: %{customdata[1]:.2f}<br>Equality std: %{customdata[2]:.2f}<br>Rationality std: %{customdata[3]:.2f}\", \"hovertext\": [\"Democratic Party\", \"Republican Party\"], \"legendgroup\": \"United States of America\", \"marker\": {\"color\": \"#00cc96\", \"symbol\": \"circle\"}, \"mode\": \"markers\", \"name\": \"United States of America\", \"scene\": \"scene\", \"showlegend\": true, \"type\": \"scatter3d\", \"x\": [0.23925066904549508, 0.0], \"y\": [0.17929209394641088, 1.0], \"z\": [0.0, 0.0]}, {\"customdata\": [[\"Conservatives\", 0.0, 0.0, 0.0], [\"Liberal Party\", 0.0, 0.0, 0.0], [\"Labour\", 0.0, 0.0, 0.0]], \"error_x\": {\"array\": [0.0, 0.0, 0.0]}, \"error_y\": {\"array\": [0.0, 0.0, 0.0]}, \"error_z\": {\"array\": [0.0, 0.0, 0.0]}, \"hovertemplate\": \"<b>Subreddit/Party: %{customdata[0]}</b><br>Transitivity mean: %{x:.2f}<br>Equality mean: %{y:.2f}<br>Rationality mean: %{z:.2f}<br>Transitivity std: %{customdata[1]:.2f}<br>Equality std: %{customdata[2]:.2f}<br>Rationality std: %{customdata[3]:.2f}\", \"hovertext\": [\"Conservatives\", \"Liberal Party\", \"Labour\"], \"legendgroup\": \"United Kingdom\", \"marker\": {\"color\": \"#ab63fa\", \"symbol\": \"circle\"}, \"mode\": \"markers\", \"name\": \"United Kingdom\", \"scene\": \"scene\", \"showlegend\": true, \"type\": \"scatter3d\", \"x\": [0.33363844393592684, 0.46034099332839146, 0.32903225806451614], \"y\": [0.7012901091630833, 0.46741647370162076, 0.0], \"z\": [0.0, 0.0, 0.0]}, {\"customdata\": [[\"Conservative Party of Canada (2003)\", 0.0, 0.0, 0.0], [\"Liberal Party of Canada\", 0.0, 0.0, 0.0]], \"error_x\": {\"array\": [0.0, 0.0]}, \"error_y\": {\"array\": [0.0, 0.0]}, \"error_z\": {\"array\": [0.0, 0.0]}, \"hovertemplate\": \"<b>Subreddit/Party: %{customdata[0]}</b><br>Transitivity mean: %{x:.2f}<br>Equality mean: %{y:.2f}<br>Rationality mean: %{z:.2f}<br>Transitivity std: %{customdata[1]:.2f}<br>Equality std: %{customdata[2]:.2f}<br>Rationality std: %{customdata[3]:.2f}\", \"hovertext\": [\"Conservative Party of Canada (2003)\", \"Liberal Party of Canada\"], \"legendgroup\": \"Canada\", \"marker\": {\"color\": \"#FFA15A\", \"symbol\": \"circle\"}, \"mode\": \"markers\", \"name\": \"Canada\", \"scene\": \"scene\", \"showlegend\": true, \"type\": \"scatter3d\", \"x\": [0.2635406698564594, 0.6090225563909776], \"y\": [0.8435329143235198, 0.04995038041680444], \"z\": [0.0, 0.0]}, {\"customdata\": [[\"Christian Democratic Union\", 0.0, 0.0, 0.0], [\"Social Democratic Party of Germany\", 0.0, 0.0, 0.0]], \"error_x\": {\"array\": [0.0, 0.0]}, \"error_y\": {\"array\": [0.0, 0.0]}, \"error_z\": {\"array\": [0.0, 0.0]}, \"hovertemplate\": \"<b>Subreddit/Party: %{customdata[0]}</b><br>Transitivity mean: %{x:.2f}<br>Equality mean: %{y:.2f}<br>Rationality mean: %{z:.2f}<br>Transitivity std: %{customdata[1]:.2f}<br>Equality std: %{customdata[2]:.2f}<br>Rationality std: %{customdata[3]:.2f}\", \"hovertext\": [\"Christian Democratic Union\", \"Social Democratic Party of Germany\"], \"legendgroup\": \"Germany\", \"marker\": {\"color\": \"#19d3f3\", \"symbol\": \"circle\"}, \"mode\": \"markers\", \"name\": \"Germany\", \"scene\": \"scene\", \"showlegend\": true, \"type\": \"scatter3d\", \"x\": [0.709559613319012, 1.0], \"y\": [0.6635792259345022, 0.19450876612636459], \"z\": [0.0, 0.0]}],                        {\"legend\": {\"title\": {\"text\": \"colour\"}, \"tracegroupgap\": 0}, \"margin\": {\"t\": 60}, \"scene\": {\"domain\": {\"x\": [0.0, 1.0], \"y\": [0.0, 1.0]}, \"xaxis\": {\"title\": {\"text\": \"transitivity_mean\"}}, \"yaxis\": {\"title\": {\"text\": \"equality_mean\"}}, \"zaxis\": {\"title\": {\"text\": \"rationality_mean\"}}}, \"template\": {\"data\": {\"bar\": [{\"error_x\": {\"color\": \"#2a3f5f\"}, \"error_y\": {\"color\": \"#2a3f5f\"}, \"marker\": {\"line\": {\"color\": \"#E5ECF6\", \"width\": 0.5}}, \"type\": \"bar\"}], \"barpolar\": [{\"marker\": {\"line\": {\"color\": \"#E5ECF6\", \"width\": 0.5}}, \"type\": \"barpolar\"}], \"carpet\": [{\"aaxis\": {\"endlinecolor\": \"#2a3f5f\", \"gridcolor\": \"white\", \"linecolor\": \"white\", \"minorgridcolor\": \"white\", \"startlinecolor\": \"#2a3f5f\"}, \"baxis\": {\"endlinecolor\": \"#2a3f5f\", \"gridcolor\": \"white\", \"linecolor\": \"white\", \"minorgridcolor\": \"white\", \"startlinecolor\": \"#2a3f5f\"}, \"type\": \"carpet\"}], \"choropleth\": [{\"colorbar\": {\"outlinewidth\": 0, \"ticks\": \"\"}, \"type\": \"choropleth\"}], \"contour\": [{\"colorbar\": {\"outlinewidth\": 0, \"ticks\": \"\"}, \"colorscale\": [[0.0, \"#0d0887\"], [0.1111111111111111, \"#46039f\"], [0.2222222222222222, \"#7201a8\"], [0.3333333333333333, \"#9c179e\"], [0.4444444444444444, \"#bd3786\"], [0.5555555555555556, \"#d8576b\"], [0.6666666666666666, \"#ed7953\"], [0.7777777777777778, \"#fb9f3a\"], [0.8888888888888888, \"#fdca26\"], [1.0, \"#f0f921\"]], \"type\": \"contour\"}], \"contourcarpet\": [{\"colorbar\": {\"outlinewidth\": 0, \"ticks\": \"\"}, \"type\": \"contourcarpet\"}], \"heatmap\": [{\"colorbar\": {\"outlinewidth\": 0, \"ticks\": \"\"}, \"colorscale\": [[0.0, \"#0d0887\"], [0.1111111111111111, \"#46039f\"], [0.2222222222222222, \"#7201a8\"], [0.3333333333333333, \"#9c179e\"], [0.4444444444444444, \"#bd3786\"], [0.5555555555555556, \"#d8576b\"], [0.6666666666666666, \"#ed7953\"], [0.7777777777777778, \"#fb9f3a\"], [0.8888888888888888, \"#fdca26\"], [1.0, \"#f0f921\"]], \"type\": \"heatmap\"}], \"heatmapgl\": [{\"colorbar\": {\"outlinewidth\": 0, \"ticks\": \"\"}, \"colorscale\": [[0.0, \"#0d0887\"], [0.1111111111111111, \"#46039f\"], [0.2222222222222222, \"#7201a8\"], [0.3333333333333333, \"#9c179e\"], [0.4444444444444444, \"#bd3786\"], [0.5555555555555556, \"#d8576b\"], [0.6666666666666666, \"#ed7953\"], [0.7777777777777778, \"#fb9f3a\"], [0.8888888888888888, \"#fdca26\"], [1.0, \"#f0f921\"]], \"type\": \"heatmapgl\"}], \"histogram\": [{\"marker\": {\"colorbar\": {\"outlinewidth\": 0, \"ticks\": \"\"}}, \"type\": \"histogram\"}], \"histogram2d\": [{\"colorbar\": {\"outlinewidth\": 0, \"ticks\": \"\"}, \"colorscale\": [[0.0, \"#0d0887\"], [0.1111111111111111, \"#46039f\"], [0.2222222222222222, \"#7201a8\"], [0.3333333333333333, \"#9c179e\"], [0.4444444444444444, \"#bd3786\"], [0.5555555555555556, \"#d8576b\"], [0.6666666666666666, \"#ed7953\"], [0.7777777777777778, \"#fb9f3a\"], [0.8888888888888888, \"#fdca26\"], [1.0, \"#f0f921\"]], \"type\": \"histogram2d\"}], \"histogram2dcontour\": [{\"colorbar\": {\"outlinewidth\": 0, \"ticks\": \"\"}, \"colorscale\": [[0.0, \"#0d0887\"], [0.1111111111111111, \"#46039f\"], [0.2222222222222222, \"#7201a8\"], [0.3333333333333333, \"#9c179e\"], [0.4444444444444444, \"#bd3786\"], [0.5555555555555556, \"#d8576b\"], [0.6666666666666666, \"#ed7953\"], [0.7777777777777778, \"#fb9f3a\"], [0.8888888888888888, \"#fdca26\"], [1.0, \"#f0f921\"]], \"type\": \"histogram2dcontour\"}], \"mesh3d\": [{\"colorbar\": {\"outlinewidth\": 0, \"ticks\": \"\"}, \"type\": \"mesh3d\"}], \"parcoords\": [{\"line\": {\"colorbar\": {\"outlinewidth\": 0, \"ticks\": \"\"}}, \"type\": \"parcoords\"}], \"pie\": [{\"automargin\": true, \"type\": \"pie\"}], \"scatter\": [{\"marker\": {\"colorbar\": {\"outlinewidth\": 0, \"ticks\": \"\"}}, \"type\": \"scatter\"}], \"scatter3d\": [{\"line\": {\"colorbar\": {\"outlinewidth\": 0, \"ticks\": \"\"}}, \"marker\": {\"colorbar\": {\"outlinewidth\": 0, \"ticks\": \"\"}}, \"type\": \"scatter3d\"}], \"scattercarpet\": [{\"marker\": {\"colorbar\": {\"outlinewidth\": 0, \"ticks\": \"\"}}, \"type\": \"scattercarpet\"}], \"scattergeo\": [{\"marker\": {\"colorbar\": {\"outlinewidth\": 0, \"ticks\": \"\"}}, \"type\": \"scattergeo\"}], \"scattergl\": [{\"marker\": {\"colorbar\": {\"outlinewidth\": 0, \"ticks\": \"\"}}, \"type\": \"scattergl\"}], \"scattermapbox\": [{\"marker\": {\"colorbar\": {\"outlinewidth\": 0, \"ticks\": \"\"}}, \"type\": \"scattermapbox\"}], \"scatterpolar\": [{\"marker\": {\"colorbar\": {\"outlinewidth\": 0, \"ticks\": \"\"}}, \"type\": \"scatterpolar\"}], \"scatterpolargl\": [{\"marker\": {\"colorbar\": {\"outlinewidth\": 0, \"ticks\": \"\"}}, \"type\": \"scatterpolargl\"}], \"scatterternary\": [{\"marker\": {\"colorbar\": {\"outlinewidth\": 0, \"ticks\": \"\"}}, \"type\": \"scatterternary\"}], \"surface\": [{\"colorbar\": {\"outlinewidth\": 0, \"ticks\": \"\"}, \"colorscale\": [[0.0, \"#0d0887\"], [0.1111111111111111, \"#46039f\"], [0.2222222222222222, \"#7201a8\"], [0.3333333333333333, \"#9c179e\"], [0.4444444444444444, \"#bd3786\"], [0.5555555555555556, \"#d8576b\"], [0.6666666666666666, \"#ed7953\"], [0.7777777777777778, \"#fb9f3a\"], [0.8888888888888888, \"#fdca26\"], [1.0, \"#f0f921\"]], \"type\": \"surface\"}], \"table\": [{\"cells\": {\"fill\": {\"color\": \"#EBF0F8\"}, \"line\": {\"color\": \"white\"}}, \"header\": {\"fill\": {\"color\": \"#C8D4E3\"}, \"line\": {\"color\": \"white\"}}, \"type\": \"table\"}]}, \"layout\": {\"annotationdefaults\": {\"arrowcolor\": \"#2a3f5f\", \"arrowhead\": 0, \"arrowwidth\": 1}, \"coloraxis\": {\"colorbar\": {\"outlinewidth\": 0, \"ticks\": \"\"}}, \"colorscale\": {\"diverging\": [[0, \"#8e0152\"], [0.1, \"#c51b7d\"], [0.2, \"#de77ae\"], [0.3, \"#f1b6da\"], [0.4, \"#fde0ef\"], [0.5, \"#f7f7f7\"], [0.6, \"#e6f5d0\"], [0.7, \"#b8e186\"], [0.8, \"#7fbc41\"], [0.9, \"#4d9221\"], [1, \"#276419\"]], \"sequential\": [[0.0, \"#0d0887\"], [0.1111111111111111, \"#46039f\"], [0.2222222222222222, \"#7201a8\"], [0.3333333333333333, \"#9c179e\"], [0.4444444444444444, \"#bd3786\"], [0.5555555555555556, \"#d8576b\"], [0.6666666666666666, \"#ed7953\"], [0.7777777777777778, \"#fb9f3a\"], [0.8888888888888888, \"#fdca26\"], [1.0, \"#f0f921\"]], \"sequentialminus\": [[0.0, \"#0d0887\"], [0.1111111111111111, \"#46039f\"], [0.2222222222222222, \"#7201a8\"], [0.3333333333333333, \"#9c179e\"], [0.4444444444444444, \"#bd3786\"], [0.5555555555555556, \"#d8576b\"], [0.6666666666666666, \"#ed7953\"], [0.7777777777777778, \"#fb9f3a\"], [0.8888888888888888, \"#fdca26\"], [1.0, \"#f0f921\"]]}, \"colorway\": [\"#636efa\", \"#EF553B\", \"#00cc96\", \"#ab63fa\", \"#FFA15A\", \"#19d3f3\", \"#FF6692\", \"#B6E880\", \"#FF97FF\", \"#FECB52\"], \"font\": {\"color\": \"#2a3f5f\"}, \"geo\": {\"bgcolor\": \"white\", \"lakecolor\": \"white\", \"landcolor\": \"#E5ECF6\", \"showlakes\": true, \"showland\": true, \"subunitcolor\": \"white\"}, \"hoverlabel\": {\"align\": \"left\"}, \"hovermode\": \"closest\", \"mapbox\": {\"style\": \"light\"}, \"paper_bgcolor\": \"white\", \"plot_bgcolor\": \"#E5ECF6\", \"polar\": {\"angularaxis\": {\"gridcolor\": \"white\", \"linecolor\": \"white\", \"ticks\": \"\"}, \"bgcolor\": \"#E5ECF6\", \"radialaxis\": {\"gridcolor\": \"white\", \"linecolor\": \"white\", \"ticks\": \"\"}}, \"scene\": {\"xaxis\": {\"backgroundcolor\": \"#E5ECF6\", \"gridcolor\": \"white\", \"gridwidth\": 2, \"linecolor\": \"white\", \"showbackground\": true, \"ticks\": \"\", \"zerolinecolor\": \"white\"}, \"yaxis\": {\"backgroundcolor\": \"#E5ECF6\", \"gridcolor\": \"white\", \"gridwidth\": 2, \"linecolor\": \"white\", \"showbackground\": true, \"ticks\": \"\", \"zerolinecolor\": \"white\"}, \"zaxis\": {\"backgroundcolor\": \"#E5ECF6\", \"gridcolor\": \"white\", \"gridwidth\": 2, \"linecolor\": \"white\", \"showbackground\": true, \"ticks\": \"\", \"zerolinecolor\": \"white\"}}, \"shapedefaults\": {\"line\": {\"color\": \"#2a3f5f\"}}, \"ternary\": {\"aaxis\": {\"gridcolor\": \"white\", \"linecolor\": \"white\", \"ticks\": \"\"}, \"baxis\": {\"gridcolor\": \"white\", \"linecolor\": \"white\", \"ticks\": \"\"}, \"bgcolor\": \"#E5ECF6\", \"caxis\": {\"gridcolor\": \"white\", \"linecolor\": \"white\", \"ticks\": \"\"}}, \"title\": {\"x\": 0.05}, \"xaxis\": {\"automargin\": true, \"gridcolor\": \"white\", \"linecolor\": \"white\", \"ticks\": \"\", \"title\": {\"standoff\": 15}, \"zerolinecolor\": \"white\", \"zerolinewidth\": 2}, \"yaxis\": {\"automargin\": true, \"gridcolor\": \"white\", \"linecolor\": \"white\", \"ticks\": \"\", \"title\": {\"standoff\": 15}, \"zerolinecolor\": \"white\", \"zerolinewidth\": 2}}}},                        {\"responsive\": true}                    ).then(function(){\n",
       "                            \n",
       "var gd = document.getElementById('9f58ab48-5683-4c2e-81b9-5b29de1156a5');\n",
       "var x = new MutationObserver(function (mutations, observer) {{\n",
       "        var display = window.getComputedStyle(gd).display;\n",
       "        if (!display || display === 'none') {{\n",
       "            console.log([gd, 'removed!']);\n",
       "            Plotly.purge(gd);\n",
       "            observer.disconnect();\n",
       "        }}\n",
       "}});\n",
       "\n",
       "// Listen for the removal of the full notebook cells\n",
       "var notebookContainer = gd.closest('#notebook-container');\n",
       "if (notebookContainer) {{\n",
       "    x.observe(notebookContainer, {childList: true});\n",
       "}}\n",
       "\n",
       "// Listen for the clearing of the current output cell\n",
       "var outputEl = gd.closest('.output');\n",
       "if (outputEl) {{\n",
       "    x.observe(outputEl, {childList: true});\n",
       "}}\n",
       "\n",
       "                        })                };                });            </script>        </div>"
      ]
     },
     "metadata": {},
     "output_type": "display_data"
    }
   ],
   "source": [
    "graph = reddit.append(vp).reset_index(drop=True).fillna(0)\n",
    "display(graph)\n",
    "\n",
    "fig = px.scatter_3d(graph, x='transitivity_mean', y='equality_mean', z='rationality_mean', \n",
    "                   custom_data=['subreddit/party', 'transitivity_std', 'equality_std', 'rationality_std'], \n",
    "                   hover_name='subreddit/party', error_x='transitivity_std', error_y='equality_std', \n",
    "                   error_z='rationality_std', color='colour')\n",
    "fig.update_traces(\n",
    "    hovertemplate=\"<br>\".join([\n",
    "        \"<b>Subreddit/Party: %{customdata[0]}</b>\",\n",
    "        \"Transitivity mean: %{x:.2f}\",\n",
    "        \"Equality mean: %{y:.2f}\",\n",
    "        \"Rationality mean: %{z:.2f}\",\n",
    "        \"Transitivity std: %{customdata[1]:.2f}\",\n",
    "        \"Equality std: %{customdata[2]:.2f}\",\n",
    "        \"Rationality std: %{customdata[3]:.2f}\"\n",
    "    ])\n",
    ")\n",
    "fig.show()"
   ]
  },
  {
   "cell_type": "markdown",
   "metadata": {},
   "source": [
    "## Pushing Plots to Plotly\n",
    "Link: https://plotly.com/~gracejyzhang/5/"
   ]
  },
  {
   "cell_type": "code",
   "execution_count": 71,
   "metadata": {
    "scrolled": true
   },
   "outputs": [
    {
     "name": "stdout",
     "output_type": "stream",
     "text": [
      "https://plotly.com/~gracejyzhang/5/\n"
     ]
    }
   ],
   "source": [
    "with open('miscellaneous/credentials.json', mode='r') as f:\n",
    "    creds = json.load(f)\n",
    "\n",
    "cs.tools.set_credentials_file(username=creds['username'], api_key=creds['api_key'])\n",
    "print(cs.plotly.plot(fig, filename = 'subreddits', auto_open=True))"
   ]
  },
  {
   "cell_type": "markdown",
   "metadata": {},
   "source": [
    "## Notes\n",
    "\n",
    "* Todo: statistical significane (p-value)\n",
    "* Reddit dataset: William L. Hamilton*, Justine Zhang*, Cristian Danescu-Niculescu-Mizil, Dan Jurafsky, Jure Leskovec. Loyalty in Online Communities. (Currently under review at WWW 2017). *Equal contribution. http://snap.stanford.edu/data/web-RedditNetworks.html\n",
    "* V-Party dataset: Lührmann, Anna, Nils Düpont, Masaaki Higashijima, Yaman Berker Kavasoglu, Kyle L. Marquardt, Michael Bernhard, Holger Döring, Allen Hicken, Melis Laebens, Staffan I. Lindberg, Juraj Medzihorsky, Anja Neundorf, Ora John Reuter, Saskia Ruth-Lovell, Keith R. Weghorst, Nina Wiesehomeier, JosephWright, Nazifa Alizada, Paul Bederke, Lisa Gastaldi, Sandra Grahn, Garry Hindle, Nina Ilchenko, Johannes von Römer, Steven Wilson, Daniel Pemstein, Brigitte Seim. 2020. Varieties of Party Identity and Organization (V-Party) Dataset V1. Varieties of Democracy (V-Dem) Project. https://doi.org/10.23696/vpartydsv1. https://www.v-dem.net/en/data/data/v-party-dataset/"
   ]
  }
 ],
 "metadata": {
  "kernelspec": {
   "display_name": "Python 3",
   "language": "python",
   "name": "python3"
  },
  "language_info": {
   "codemirror_mode": {
    "name": "ipython",
    "version": 3
   },
   "file_extension": ".py",
   "mimetype": "text/x-python",
   "name": "python",
   "nbconvert_exporter": "python",
   "pygments_lexer": "ipython3",
   "version": "3.8.3"
  }
 },
 "nbformat": 4,
 "nbformat_minor": 4
}
